{
 "cells": [
  {
   "cell_type": "markdown",
   "metadata": {},
   "source": [
    "## 『本次練習內容』\n",
    "#### 運用這幾天所學觀念搭建一個CNN分類器"
   ]
  },
  {
   "cell_type": "markdown",
   "metadata": {},
   "source": [
    "## 『本次練習目的』\n",
    "  #### 熟悉CNN分類器搭建步驟與原理\n",
    "  #### 學員們可以嘗試不同搭法，如使用不同的Maxpooling層，用GlobalAveragePooling取代Flatten等等"
   ]
  },
  {
   "cell_type": "code",
   "execution_count": 1,
   "metadata": {},
   "outputs": [
    {
     "name": "stderr",
     "output_type": "stream",
     "text": [
      "Using TensorFlow backend.\n"
     ]
    }
   ],
   "source": [
    "from keras.models import Sequential\n",
    "from keras.layers import Convolution2D\n",
    "from keras.layers import MaxPooling2D\n",
    "from keras.layers import Flatten\n",
    "from keras.layers import Dense\n",
    "from keras.layers import Dropout\n",
    "from keras.layers import BatchNormalization\n",
    "from keras.datasets import cifar10\n",
    "import numpy as np\n",
    "import tensorflow as tf\n",
    "from sklearn.preprocessing import OneHotEncoder\n"
   ]
  },
  {
   "cell_type": "code",
   "execution_count": 2,
   "metadata": {},
   "outputs": [
    {
     "name": "stdout",
     "output_type": "stream",
     "text": [
      "Downloading data from https://www.cs.toronto.edu/~kriz/cifar-10-python.tar.gz\n",
      "170500096/170498071 [==============================] - 59s 0us/step\n",
      "(50000, 32, 32, 3)\n"
     ]
    }
   ],
   "source": [
    "(x_train, y_train), (x_test, y_test) = cifar10.load_data()\n",
    "\n",
    "print(x_train.shape) #(50000, 32, 32, 3)\n",
    "\n",
    "## Normalize Data\n",
    "def normalize(X_train,X_test):\n",
    "        mean = np.mean(X_train,axis=(0,1,2,3))\n",
    "        std = np.std(X_train, axis=(0, 1, 2, 3))\n",
    "        X_train = (X_train-mean)/(std+1e-7)\n",
    "        X_test = (X_test-mean)/(std+1e-7) \n",
    "        return X_train, X_test,mean,std\n",
    "    \n",
    "    \n",
    "## Normalize Training and Testset    \n",
    "x_train, x_test,mean_train,std_train = normalize(x_train, x_test) "
   ]
  },
  {
   "cell_type": "code",
   "execution_count": 3,
   "metadata": {},
   "outputs": [],
   "source": [
    "## OneHot Label 由(None, 1)-(None, 10)\n",
    "## ex. label=2,變成[0,0,1,0,0,0,0,0,0,0]\n",
    "one_hot=OneHotEncoder()\n",
    "y_train=one_hot.fit_transform(y_train).toarray()\n",
    "y_test=one_hot.transform(y_test).toarray()"
   ]
  },
  {
   "cell_type": "code",
   "execution_count": 4,
   "metadata": {},
   "outputs": [
    {
     "name": "stdout",
     "output_type": "stream",
     "text": [
      "WARNING:tensorflow:From D:\\Anaconda3\\lib\\site-packages\\tensorflow_core\\python\\ops\\resource_variable_ops.py:1630: calling BaseResourceVariable.__init__ (from tensorflow.python.ops.resource_variable_ops) with constraint is deprecated and will be removed in a future version.\n",
      "Instructions for updating:\n",
      "If using Keras pass *_constraint arguments to layers.\n"
     ]
    },
    {
     "name": "stderr",
     "output_type": "stream",
     "text": [
      "D:\\Anaconda3\\lib\\site-packages\\ipykernel_launcher.py:23: UserWarning: Update your `Dense` call to the Keras 2 API: `Dense(activation=\"relu\", units=100)`\n",
      "D:\\Anaconda3\\lib\\site-packages\\ipykernel_launcher.py:26: UserWarning: Update your `Dense` call to the Keras 2 API: `Dense(activation=\"relu\", units=10)`\n"
     ]
    },
    {
     "name": "stdout",
     "output_type": "stream",
     "text": [
      "WARNING:tensorflow:From D:\\Anaconda3\\lib\\site-packages\\tensorflow_core\\python\\ops\\math_grad.py:1424: where (from tensorflow.python.ops.array_ops) is deprecated and will be removed in a future version.\n",
      "Instructions for updating:\n",
      "Use tf.where in 2.0, which has the same broadcast rule as np.where\n",
      "WARNING:tensorflow:From D:\\Anaconda3\\lib\\site-packages\\keras\\backend\\tensorflow_backend.py:422: The name tf.global_variables is deprecated. Please use tf.compat.v1.global_variables instead.\n",
      "\n",
      "Epoch 1/100\n",
      "50000/50000 [==============================] - 110s 2ms/step - loss: 2.3893 - accuracy: 0.2937\n",
      "Epoch 2/100\n",
      "50000/50000 [==============================] - 108s 2ms/step - loss: 1.9374 - accuracy: 0.3511\n",
      "Epoch 3/100\n",
      "50000/50000 [==============================] - 110s 2ms/step - loss: 2.0249 - accuracy: 0.3035\n",
      "Epoch 4/100\n",
      "50000/50000 [==============================] - 111s 2ms/step - loss: 1.9842 - accuracy: 0.3184\n",
      "Epoch 5/100\n",
      "50000/50000 [==============================] - 110s 2ms/step - loss: 2.0120 - accuracy: 0.2298\n",
      "Epoch 6/100\n",
      "50000/50000 [==============================] - 112s 2ms/step - loss: 1.8462 - accuracy: 0.3683\n",
      "Epoch 7/100\n",
      "50000/50000 [==============================] - 111s 2ms/step - loss: 1.8336 - accuracy: 0.3742\n",
      "Epoch 8/100\n",
      "50000/50000 [==============================] - 111s 2ms/step - loss: 1.7578 - accuracy: 0.4008\n",
      "Epoch 9/100\n",
      "50000/50000 [==============================] - 115s 2ms/step - loss: 1.7239 - accuracy: 0.4184\n",
      "Epoch 10/100\n",
      "50000/50000 [==============================] - 115s 2ms/step - loss: 1.9414 - accuracy: 0.3288\n",
      "Epoch 11/100\n",
      "50000/50000 [==============================] - 115s 2ms/step - loss: 1.8853 - accuracy: 0.3326\n",
      "Epoch 12/100\n",
      "50000/50000 [==============================] - 115s 2ms/step - loss: 1.7925 - accuracy: 0.3693\n",
      "Epoch 13/100\n",
      "50000/50000 [==============================] - 115s 2ms/step - loss: 1.7289 - accuracy: 0.4080\n",
      "Epoch 14/100\n",
      "50000/50000 [==============================] - 115s 2ms/step - loss: 1.7001 - accuracy: 0.4319\n",
      "Epoch 15/100\n",
      "50000/50000 [==============================] - 115s 2ms/step - loss: 1.7448 - accuracy: 0.4176\n",
      "Epoch 16/100\n",
      "50000/50000 [==============================] - 115s 2ms/step - loss: 1.6554 - accuracy: 0.4509\n",
      "Epoch 17/100\n",
      "50000/50000 [==============================] - 115s 2ms/step - loss: 1.7164 - accuracy: 0.4089\n",
      "Epoch 18/100\n",
      "50000/50000 [==============================] - 115s 2ms/step - loss: 2.0058 - accuracy: 0.3325\n",
      "Epoch 19/100\n",
      "50000/50000 [==============================] - 115s 2ms/step - loss: 1.7701 - accuracy: 0.3746\n",
      "Epoch 20/100\n",
      "50000/50000 [==============================] - 115s 2ms/step - loss: 1.7582 - accuracy: 0.3893\n",
      "Epoch 21/100\n",
      "50000/50000 [==============================] - 115s 2ms/step - loss: 1.7288 - accuracy: 0.4030\n",
      "Epoch 22/100\n",
      "50000/50000 [==============================] - 115s 2ms/step - loss: 1.6680 - accuracy: 0.4276\n",
      "Epoch 23/100\n",
      "50000/50000 [==============================] - 115s 2ms/step - loss: 1.7407 - accuracy: 0.4087\n",
      "Epoch 24/100\n",
      "50000/50000 [==============================] - 115s 2ms/step - loss: 1.7094 - accuracy: 0.4051\n",
      "Epoch 25/100\n",
      "50000/50000 [==============================] - 115s 2ms/step - loss: 1.6433 - accuracy: 0.4386\n",
      "Epoch 26/100\n",
      "50000/50000 [==============================] - 115s 2ms/step - loss: 1.6578 - accuracy: 0.4326\n",
      "Epoch 27/100\n",
      "50000/50000 [==============================] - 115s 2ms/step - loss: 1.6382 - accuracy: 0.4395\n",
      "Epoch 28/100\n",
      "50000/50000 [==============================] - 115s 2ms/step - loss: 1.6142 - accuracy: 0.4410\n",
      "Epoch 29/100\n",
      "50000/50000 [==============================] - 115s 2ms/step - loss: 1.6428 - accuracy: 0.4430\n",
      "Epoch 30/100\n",
      "50000/50000 [==============================] - 115s 2ms/step - loss: 1.6013 - accuracy: 0.4617\n",
      "Epoch 31/100\n",
      "50000/50000 [==============================] - 115s 2ms/step - loss: 1.5683 - accuracy: 0.4618\n",
      "Epoch 32/100\n",
      "50000/50000 [==============================] - 115s 2ms/step - loss: 1.5988 - accuracy: 0.4444\n",
      "Epoch 33/100\n",
      "50000/50000 [==============================] - 115s 2ms/step - loss: 1.5487 - accuracy: 0.4680\n",
      "Epoch 34/100\n",
      "50000/50000 [==============================] - 115s 2ms/step - loss: 1.4925 - accuracy: 0.4975\n",
      "Epoch 35/100\n",
      "50000/50000 [==============================] - 115s 2ms/step - loss: 1.7728 - accuracy: 0.4042\n",
      "Epoch 36/100\n",
      "50000/50000 [==============================] - 115s 2ms/step - loss: 1.6538 - accuracy: 0.4279\n",
      "Epoch 37/100\n",
      "50000/50000 [==============================] - 115s 2ms/step - loss: 1.6083 - accuracy: 0.4476\n",
      "Epoch 38/100\n",
      "50000/50000 [==============================] - 115s 2ms/step - loss: 1.5530 - accuracy: 0.4710\n",
      "Epoch 39/100\n",
      "50000/50000 [==============================] - 115s 2ms/step - loss: 1.5209 - accuracy: 0.4870\n",
      "Epoch 40/100\n",
      "50000/50000 [==============================] - 115s 2ms/step - loss: 1.5005 - accuracy: 0.4910\n",
      "Epoch 41/100\n",
      "50000/50000 [==============================] - 115s 2ms/step - loss: 1.4717 - accuracy: 0.5035\n",
      "Epoch 42/100\n",
      "50000/50000 [==============================] - 115s 2ms/step - loss: 1.5133 - accuracy: 0.4935\n",
      "Epoch 43/100\n",
      "50000/50000 [==============================] - 115s 2ms/step - loss: 1.5772 - accuracy: 0.4689\n",
      "Epoch 44/100\n",
      "50000/50000 [==============================] - 115s 2ms/step - loss: 1.4736 - accuracy: 0.5050\n",
      "Epoch 45/100\n",
      "50000/50000 [==============================] - 115s 2ms/step - loss: 1.6672 - accuracy: 0.4430\n",
      "Epoch 46/100\n",
      "50000/50000 [==============================] - 115s 2ms/step - loss: 1.5407 - accuracy: 0.4779\n",
      "Epoch 47/100\n",
      "50000/50000 [==============================] - 115s 2ms/step - loss: 1.4687 - accuracy: 0.5090\n",
      "Epoch 48/100\n",
      "50000/50000 [==============================] - 115s 2ms/step - loss: 1.5195 - accuracy: 0.5022\n",
      "Epoch 49/100\n",
      "50000/50000 [==============================] - 111s 2ms/step - loss: 1.5383 - accuracy: 0.4889\n",
      "Epoch 50/100\n",
      "50000/50000 [==============================] - 111s 2ms/step - loss: 1.4618 - accuracy: 0.5098\n",
      "Epoch 51/100\n",
      "50000/50000 [==============================] - 111s 2ms/step - loss: 1.5794 - accuracy: 0.4973\n",
      "Epoch 52/100\n",
      "50000/50000 [==============================] - 111s 2ms/step - loss: 1.7954 - accuracy: 0.4006\n",
      "Epoch 53/100\n",
      "50000/50000 [==============================] - 111s 2ms/step - loss: 1.5730 - accuracy: 0.4640\n",
      "Epoch 54/100\n",
      "50000/50000 [==============================] - 111s 2ms/step - loss: 1.4829 - accuracy: 0.4978\n",
      "Epoch 55/100\n",
      "50000/50000 [==============================] - 111s 2ms/step - loss: 1.4451 - accuracy: 0.5119\n",
      "Epoch 56/100\n",
      "50000/50000 [==============================] - 111s 2ms/step - loss: 1.5050 - accuracy: 0.5036\n",
      "Epoch 57/100\n",
      "50000/50000 [==============================] - 111s 2ms/step - loss: 1.4531 - accuracy: 0.5124\n",
      "Epoch 58/100\n",
      "50000/50000 [==============================] - 110s 2ms/step - loss: 1.4136 - accuracy: 0.5283\n",
      "Epoch 59/100\n",
      "50000/50000 [==============================] - 112s 2ms/step - loss: 1.3755 - accuracy: 0.5375\n",
      "Epoch 60/100\n",
      "50000/50000 [==============================] - 112s 2ms/step - loss: 1.3830 - accuracy: 0.5356\n",
      "Epoch 61/100\n",
      "50000/50000 [==============================] - 112s 2ms/step - loss: 1.3363 - accuracy: 0.5463\n",
      "Epoch 62/100\n",
      "50000/50000 [==============================] - 119s 2ms/step - loss: 1.3624 - accuracy: 0.5388\n",
      "Epoch 63/100\n",
      "50000/50000 [==============================] - 119s 2ms/step - loss: 1.3491 - accuracy: 0.5423\n",
      "Epoch 64/100\n",
      "50000/50000 [==============================] - 114s 2ms/step - loss: 1.4181 - accuracy: 0.5249\n",
      "Epoch 65/100\n",
      "50000/50000 [==============================] - 110s 2ms/step - loss: 1.4921 - accuracy: 0.4969\n",
      "Epoch 66/100\n",
      "50000/50000 [==============================] - 110s 2ms/step - loss: 1.4830 - accuracy: 0.4934\n",
      "Epoch 67/100\n",
      "50000/50000 [==============================] - 110s 2ms/step - loss: 1.4697 - accuracy: 0.4982\n",
      "Epoch 68/100\n",
      "50000/50000 [==============================] - 110s 2ms/step - loss: 1.3782 - accuracy: 0.5312\n",
      "Epoch 69/100\n",
      "50000/50000 [==============================] - 112s 2ms/step - loss: 1.4483 - accuracy: 0.5135\n",
      "Epoch 70/100\n",
      "50000/50000 [==============================] - 112s 2ms/step - loss: 1.3660 - accuracy: 0.5370\n",
      "Epoch 71/100\n",
      "50000/50000 [==============================] - 125s 2ms/step - loss: 1.3785 - accuracy: 0.5389\n",
      "Epoch 72/100\n"
     ]
    },
    {
     "name": "stdout",
     "output_type": "stream",
     "text": [
      "50000/50000 [==============================] - 124s 2ms/step - loss: 1.4309 - accuracy: 0.5247\n",
      "Epoch 73/100\n",
      "50000/50000 [==============================] - 116s 2ms/step - loss: 1.3447 - accuracy: 0.5498\n",
      "Epoch 74/100\n",
      "50000/50000 [==============================] - 111s 2ms/step - loss: 1.3077 - accuracy: 0.5587\n",
      "Epoch 75/100\n",
      "50000/50000 [==============================] - 110s 2ms/step - loss: 1.3319 - accuracy: 0.5503\n",
      "Epoch 76/100\n",
      "50000/50000 [==============================] - 110s 2ms/step - loss: 1.2597 - accuracy: 0.5678\n",
      "Epoch 77/100\n",
      "50000/50000 [==============================] - 110s 2ms/step - loss: 1.5568 - accuracy: 0.5315\n",
      "Epoch 78/100\n",
      "50000/50000 [==============================] - 109s 2ms/step - loss: 1.8405 - accuracy: 0.4212\n",
      "Epoch 79/100\n",
      "50000/50000 [==============================] - 109s 2ms/step - loss: 1.5612 - accuracy: 0.4781\n",
      "Epoch 80/100\n",
      "50000/50000 [==============================] - 109s 2ms/step - loss: 1.4785 - accuracy: 0.4991\n",
      "Epoch 81/100\n",
      "50000/50000 [==============================] - 109s 2ms/step - loss: 1.4477 - accuracy: 0.5098\n",
      "Epoch 82/100\n",
      "50000/50000 [==============================] - 109s 2ms/step - loss: 1.4357 - accuracy: 0.5143\n",
      "Epoch 83/100\n",
      "50000/50000 [==============================] - 109s 2ms/step - loss: 1.3537 - accuracy: 0.5413\n",
      "Epoch 84/100\n",
      "50000/50000 [==============================] - 109s 2ms/step - loss: 1.3003 - accuracy: 0.5568\n",
      "Epoch 85/100\n",
      "50000/50000 [==============================] - 110s 2ms/step - loss: 1.3097 - accuracy: 0.5509\n",
      "Epoch 86/100\n",
      "50000/50000 [==============================] - 110s 2ms/step - loss: 1.3543 - accuracy: 0.5419\n",
      "Epoch 87/100\n",
      "50000/50000 [==============================] - 109s 2ms/step - loss: 1.2802 - accuracy: 0.5534\n",
      "Epoch 88/100\n",
      "50000/50000 [==============================] - 109s 2ms/step - loss: 1.3091 - accuracy: 0.5469\n",
      "Epoch 89/100\n",
      "50000/50000 [==============================] - 109s 2ms/step - loss: 1.2726 - accuracy: 0.5625\n",
      "Epoch 90/100\n",
      "50000/50000 [==============================] - 109s 2ms/step - loss: 1.2297 - accuracy: 0.5762\n",
      "Epoch 91/100\n",
      "50000/50000 [==============================] - 109s 2ms/step - loss: 1.2343 - accuracy: 0.5794\n",
      "Epoch 92/100\n",
      "50000/50000 [==============================] - 109s 2ms/step - loss: 1.3292 - accuracy: 0.5586\n",
      "Epoch 93/100\n",
      "50000/50000 [==============================] - 109s 2ms/step - loss: 1.2600 - accuracy: 0.5721\n",
      "Epoch 94/100\n",
      "50000/50000 [==============================] - 110s 2ms/step - loss: 1.2418 - accuracy: 0.5782\n",
      "Epoch 95/100\n",
      "50000/50000 [==============================] - 110s 2ms/step - loss: 1.2249 - accuracy: 0.5803\n",
      "Epoch 96/100\n",
      "50000/50000 [==============================] - 108s 2ms/step - loss: 1.1909 - accuracy: 0.5894\n",
      "Epoch 97/100\n",
      "50000/50000 [==============================] - 109s 2ms/step - loss: 1.1989 - accuracy: 0.5889\n",
      "Epoch 98/100\n",
      "50000/50000 [==============================] - 109s 2ms/step - loss: 1.1565 - accuracy: 0.5980\n",
      "Epoch 99/100\n",
      "50000/50000 [==============================] - 109s 2ms/step - loss: 1.1732 - accuracy: 0.5981\n",
      "Epoch 100/100\n",
      "50000/50000 [==============================] - 110s 2ms/step - loss: 1.1366 - accuracy: 0.6089\n"
     ]
    },
    {
     "data": {
      "text/plain": [
       "<keras.callbacks.callbacks.History at 0x239a031c708>"
      ]
     },
     "execution_count": 4,
     "metadata": {},
     "output_type": "execute_result"
    }
   ],
   "source": [
    "\n",
    "classifier=Sequential()\n",
    "\n",
    "#卷積組合\n",
    "classifier.add(Convolution2D(filters=32,\n",
    "                             kernel_size=(3,3),\n",
    "                             activation='relu',\n",
    "                             input_shape=(32,32,3)))  # 32,3,3,input_shape=(32,32,3),activation='relu''\n",
    "classifier.add(BatchNormalization())\n",
    "\n",
    "'''自己決定MaxPooling2D放在哪裡'''\n",
    "#classifier.add(MaxPooling2D(pool_size=(2,2)))\n",
    "\n",
    "#卷積組合\n",
    "classifier.add(Convolution2D(filters=32,\n",
    "                             kernel_size=(3,3),\n",
    "                             input_shape=(32,32,3)))\n",
    "classifier.add(BatchNormalization())\n",
    "\n",
    "#flatten\n",
    "classifier.add(Flatten())\n",
    "\n",
    "#FC\n",
    "classifier.add(Dense(output_dim=100,activation='relu')) #output_dim=100,activation=relu\n",
    "\n",
    "#輸出\n",
    "classifier.add(Dense(output_dim=10,activation='relu'))\n",
    "\n",
    "#超過兩個就要選categorical_crossentrophy\n",
    "classifier.compile(optimizer = 'adam', loss = 'categorical_crossentropy', metrics = ['accuracy'])\n",
    "classifier.fit(x_train,y_train,batch_size=100,epochs=100)"
   ]
  },
  {
   "cell_type": "markdown",
   "metadata": {},
   "source": [
    "## 預測新圖片，輸入影像前處理要與訓練時相同\n",
    "#### ((X-mean)/(std+1e-7) ):這裡的mean跟std是訓練集的\n",
    "## 維度如下方示範"
   ]
  },
  {
   "cell_type": "code",
   "execution_count": 5,
   "metadata": {},
   "outputs": [
    {
     "data": {
      "text/plain": [
       "array([[1363.1455 ,  404.2205 , 3420.7866 , 3377.9055 , 3029.9414 ,\n",
       "         605.6847 , 1088.8032 ,  946.99194,  988.05035,    0.     ]],\n",
       "      dtype=float32)"
      ]
     },
     "execution_count": 5,
     "metadata": {},
     "output_type": "execute_result"
    }
   ],
   "source": [
    "input_example=(np.zeros(shape=(1,32,32,3))-mean_train)/(std_train+1e-7) \n",
    "classifier.predict(input_example)"
   ]
  },
  {
   "cell_type": "code",
   "execution_count": null,
   "metadata": {},
   "outputs": [],
   "source": []
  }
 ],
 "metadata": {
  "kernelspec": {
   "display_name": "Python 3",
   "language": "python",
   "name": "python3"
  },
  "language_info": {
   "codemirror_mode": {
    "name": "ipython",
    "version": 3
   },
   "file_extension": ".py",
   "mimetype": "text/x-python",
   "name": "python",
   "nbconvert_exporter": "python",
   "pygments_lexer": "ipython3",
   "version": "3.7.6"
  }
 },
 "nbformat": 4,
 "nbformat_minor": 2
}
